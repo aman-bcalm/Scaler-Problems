{
 "cells": [
  {
   "cell_type": "code",
   "execution_count": 8,
   "id": "d8d470c9",
   "metadata": {},
   "outputs": [],
   "source": [
    "import numpy as np\n",
    "from scipy.stats import chisquare\n",
    "\n",
    "def fnc(data,val):\n",
    "    '''\n",
    "    input:\n",
    "    data -> list of frequency of teachers telling ith day has highest number of absentees\n",
    "    val -> expected frequency of teachers in support of each day\n",
    "    \n",
    "    output:\n",
    "    chiVal -> chi-square value\n",
    "    '''\n",
    "    chiVal = 0.0\n",
    "    # YOUR CODE GOES HERE\n",
    "    data1 = data\n",
    "    data2 = len(data1) * [val]\n",
    "    chiVal, pval = chisquare(data1, data2)\n",
    "    # YOUR CODE ENDS HERE\n",
    "    return chiVal\n"
   ]
  },
  {
   "cell_type": "code",
   "execution_count": 9,
   "id": "8cf64c09",
   "metadata": {},
   "outputs": [],
   "source": [
    "data1 = [23, 16, 14, 28, 19]\n",
    "val = 20"
   ]
  },
  {
   "cell_type": "code",
   "execution_count": 10,
   "id": "26daa725",
   "metadata": {},
   "outputs": [],
   "source": [
    "data2 = len(data1) * [val]"
   ]
  },
  {
   "cell_type": "code",
   "execution_count": 11,
   "id": "2126c608",
   "metadata": {},
   "outputs": [
    {
     "data": {
      "text/plain": [
       "Power_divergenceResult(statistic=6.3, pvalue=0.1778363264982168)"
      ]
     },
     "execution_count": 11,
     "metadata": {},
     "output_type": "execute_result"
    }
   ],
   "source": [
    "chisquare(data1, data2)"
   ]
  },
  {
   "cell_type": "code",
   "execution_count": null,
   "id": "049d58db",
   "metadata": {},
   "outputs": [],
   "source": []
  }
 ],
 "metadata": {
  "kernelspec": {
   "display_name": "Python 3 (ipykernel)",
   "language": "python",
   "name": "python3"
  },
  "language_info": {
   "codemirror_mode": {
    "name": "ipython",
    "version": 3
   },
   "file_extension": ".py",
   "mimetype": "text/x-python",
   "name": "python",
   "nbconvert_exporter": "python",
   "pygments_lexer": "ipython3",
   "version": "3.9.7"
  }
 },
 "nbformat": 4,
 "nbformat_minor": 5
}

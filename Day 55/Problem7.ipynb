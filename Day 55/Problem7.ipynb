{
 "cells": [
  {
   "cell_type": "code",
   "execution_count": 16,
   "id": "5e50292d",
   "metadata": {},
   "outputs": [],
   "source": [
    "#PROBLEM 7\n",
    "\n",
    "import numpy as np\n",
    "def fnc(arr, n_min,n_max):\n",
    "    '''\n",
    "    input:\n",
    "    arr-> the input numpy array to the function\n",
    "    n_min -> an integer specifying the n_min value as mentioned in the problem statement\n",
    "    n_max -> an integer specifying the n_max value as mentioned in the problem statement\n",
    "    output:\n",
    "    norm_arr -> the normalized numpy array\n",
    "    '''\n",
    "    norm_arr = None\n",
    "    # YOUR CODE GOES HERE\n",
    "    diff =  n_max - n_min \n",
    "    mx = max(arr)\n",
    "    mn = min(arr)\n",
    "    diff_arr = mx-mn\n",
    "    for i in range(0, len(arr)):\n",
    "        arr[i] =  (((arr[i] - mn)*diff)/diff_arr) + n_min\n",
    "    mn =  np.mean(arr)\n",
    "    sdv =  np.std(arr)\n",
    "    norm_arr = []\n",
    "    for i in range(0, len(arr)):\n",
    "        if (arr[i] > (mn-sdv)) and (arr[i] < (mn+sdv)):\n",
    "            norm_arr.append(round(arr[i],2))\n",
    "    \n",
    "    norm_arr = np.array(norm_arr)\n",
    "    \n",
    "    # YOUR CODE ENDS HERE\n",
    "    return norm_arr\n",
    "    "
   ]
  },
  {
   "cell_type": "code",
   "execution_count": 17,
   "id": "e445ec2e",
   "metadata": {},
   "outputs": [],
   "source": [
    "arr = [1, 2, 3]\n",
    "n_min  = 0\n",
    "n_max = 1"
   ]
  },
  {
   "cell_type": "code",
   "execution_count": 18,
   "id": "1d9cb700",
   "metadata": {},
   "outputs": [],
   "source": [
    "diff =  n_max - n_min \n",
    "mx = max(arr)\n",
    "mn = min(arr)\n",
    "diff_arr = mx-mn"
   ]
  },
  {
   "cell_type": "code",
   "execution_count": 19,
   "id": "ce3b0929",
   "metadata": {},
   "outputs": [],
   "source": [
    "for i in range(0, len(arr)):\n",
    "    arr[i] =  (((arr[i] - mn)*diff)/diff_arr) + n_min\n",
    "    "
   ]
  },
  {
   "cell_type": "code",
   "execution_count": 20,
   "id": "25641c75",
   "metadata": {},
   "outputs": [
    {
     "data": {
      "text/plain": [
       "[0.0, 0.5, 1.0]"
      ]
     },
     "execution_count": 20,
     "metadata": {},
     "output_type": "execute_result"
    }
   ],
   "source": [
    "arr"
   ]
  },
  {
   "cell_type": "code",
   "execution_count": 21,
   "id": "fb329a14",
   "metadata": {},
   "outputs": [],
   "source": [
    "mn =  np.mean(arr)"
   ]
  },
  {
   "cell_type": "code",
   "execution_count": 22,
   "id": "07807126",
   "metadata": {},
   "outputs": [],
   "source": [
    "sdv =  np.std(arr)"
   ]
  },
  {
   "cell_type": "code",
   "execution_count": 23,
   "id": "64173936",
   "metadata": {},
   "outputs": [],
   "source": [
    "res = []\n",
    "for i in range(0, len(arr)):\n",
    "    if (arr[i] > (mn-sdv)) and (arr[i] < (mn+sdv)):\n",
    "        res.append(arr[i])\n"
   ]
  },
  {
   "cell_type": "code",
   "execution_count": 24,
   "id": "cf75e5c4",
   "metadata": {},
   "outputs": [
    {
     "data": {
      "text/plain": [
       "[0.5]"
      ]
     },
     "execution_count": 24,
     "metadata": {},
     "output_type": "execute_result"
    }
   ],
   "source": [
    "res"
   ]
  },
  {
   "cell_type": "code",
   "execution_count": null,
   "id": "56914a77",
   "metadata": {},
   "outputs": [],
   "source": [
    "#PROBLEM 8"
   ]
  },
  {
   "cell_type": "code",
   "execution_count": null,
   "id": "0914f7fa",
   "metadata": {},
   "outputs": [],
   "source": []
  }
 ],
 "metadata": {
  "kernelspec": {
   "display_name": "Python 3 (ipykernel)",
   "language": "python",
   "name": "python3"
  },
  "language_info": {
   "codemirror_mode": {
    "name": "ipython",
    "version": 3
   },
   "file_extension": ".py",
   "mimetype": "text/x-python",
   "name": "python",
   "nbconvert_exporter": "python",
   "pygments_lexer": "ipython3",
   "version": "3.9.7"
  }
 },
 "nbformat": 4,
 "nbformat_minor": 5
}

{
 "cells": [
  {
   "cell_type": "code",
   "execution_count": 49,
   "id": "dcad8820",
   "metadata": {},
   "outputs": [],
   "source": [
    "import numpy as np\n",
    "\n",
    "from sklearn.preprocessing import StandardScaler\n"
   ]
  },
  {
   "cell_type": "code",
   "execution_count": 50,
   "id": "1aedf479",
   "metadata": {},
   "outputs": [],
   "source": [
    "def PCA(X , num_components):\n",
    "    '''\n",
    "    input:\n",
    "    X -> is 2D list Data which we have to apply PCA\n",
    "    k -> num_dimensions in which we want to reduce\n",
    "    \n",
    "    output:\n",
    "    X_reduced -> a 2-D numpy array, containing the reduced matrix by k dimensions\n",
    "    '''\n",
    "    \n",
    "    #Step-1\n",
    "    X_meaned = (X-np.mean(X , axis = 0)) \n",
    "    #Step-2\n",
    "    cov_mat = np.cov(X_meaned.T)\n",
    "    print(X_meaned.T)\n",
    "    #Step-3\n",
    "    eigen_values , eigen_vectors = np.linalg.eig(cov_mat)\n",
    "    print(cov_mat)\n",
    "    print(eigen_values)\n",
    "    print(eigen_vectors)\n",
    "     \n",
    "    #Step-4\n",
    "    sorted_index = np.argsort(eigen_values)[::-1]\n",
    "    sorted_eigenvectors = eigen_vectors[:,sorted_index]\n",
    "     \n",
    "    #Step-5\n",
    "    eigenvector_subset = sorted_eigenvectors[:,:num_components]\n",
    "     \n",
    "    #Step-6\n",
    "    X_reduced = np.dot(X_meaned,eigenvector_subset)\n",
    "    return X_reduced.round(2)"
   ]
  },
  {
   "cell_type": "code",
   "execution_count": null,
   "id": "6aab9d00",
   "metadata": {},
   "outputs": [],
   "source": []
  },
  {
   "cell_type": "code",
   "execution_count": 51,
   "id": "b07d4bb0",
   "metadata": {},
   "outputs": [],
   "source": [
    "X = [[1,2,3,4],[5,6,7,8]]\n",
    "num_components = 2"
   ]
  },
  {
   "cell_type": "code",
   "execution_count": 22,
   "id": "4d5e9d02",
   "metadata": {},
   "outputs": [
    {
     "name": "stdout",
     "output_type": "stream",
     "text": [
      "[[-2.  2.]\n",
      " [-2.  2.]\n",
      " [-2.  2.]\n",
      " [-2.  2.]]\n",
      "[[8. 8. 8. 8.]\n",
      " [8. 8. 8. 8.]\n",
      " [8. 8. 8. 8.]\n",
      " [8. 8. 8. 8.]]\n",
      "[-3.55271368e-15  3.20000000e+01  0.00000000e+00  0.00000000e+00]\n",
      "[[-0.8660254   0.5         0.          0.        ]\n",
      " [ 0.28867513  0.5        -0.57735027 -0.57735027]\n",
      " [ 0.28867513  0.5         0.78867513 -0.21132487]\n",
      " [ 0.28867513  0.5        -0.21132487  0.78867513]]\n"
     ]
    },
    {
     "data": {
      "text/plain": [
       "array([[-4.,  0.],\n",
       "       [ 4.,  0.]])"
      ]
     },
     "execution_count": 22,
     "metadata": {},
     "output_type": "execute_result"
    }
   ],
   "source": [
    "PCA(X, num_components)"
   ]
  },
  {
   "cell_type": "code",
   "execution_count": 23,
   "id": "a9b51512",
   "metadata": {},
   "outputs": [],
   "source": [
    "X = np.matrix(X)"
   ]
  },
  {
   "cell_type": "code",
   "execution_count": 24,
   "id": "a3e02238",
   "metadata": {},
   "outputs": [
    {
     "data": {
      "text/plain": [
       "matrix([[1, 2, 3, 4],\n",
       "        [5, 6, 7, 8]])"
      ]
     },
     "execution_count": 24,
     "metadata": {},
     "output_type": "execute_result"
    }
   ],
   "source": [
    "X"
   ]
  },
  {
   "cell_type": "code",
   "execution_count": null,
   "id": "0e312d02",
   "metadata": {},
   "outputs": [],
   "source": []
  },
  {
   "cell_type": "code",
   "execution_count": null,
   "id": "d9eaf423",
   "metadata": {},
   "outputs": [],
   "source": []
  },
  {
   "cell_type": "code",
   "execution_count": 25,
   "id": "2c7b44b3",
   "metadata": {},
   "outputs": [],
   "source": [
    "#for i in range(0, len(X)):\n",
    "#    m = np.mean(X[i])\n",
    "#    st = np.std(X[i])\n",
    "#    for j in range(0, len(X[i])):\n",
    "#        X[i][j] = (X[i][j] - m) / st"
   ]
  },
  {
   "cell_type": "code",
   "execution_count": null,
   "id": "3975736f",
   "metadata": {},
   "outputs": [],
   "source": []
  },
  {
   "cell_type": "code",
   "execution_count": 26,
   "id": "0575330f",
   "metadata": {},
   "outputs": [
    {
     "data": {
      "text/plain": [
       "matrix([[1, 2, 3, 4],\n",
       "        [5, 6, 7, 8]])"
      ]
     },
     "execution_count": 26,
     "metadata": {},
     "output_type": "execute_result"
    }
   ],
   "source": [
    "X"
   ]
  },
  {
   "cell_type": "code",
   "execution_count": 27,
   "id": "e8821512",
   "metadata": {},
   "outputs": [],
   "source": [
    "#X_s =  StandardScaler().fit_transform(X)"
   ]
  },
  {
   "cell_type": "code",
   "execution_count": 28,
   "id": "75b365d4",
   "metadata": {},
   "outputs": [],
   "source": [
    "X_s = X - np.mean(X , axis = 0)"
   ]
  },
  {
   "cell_type": "code",
   "execution_count": 29,
   "id": "e595fa8d",
   "metadata": {},
   "outputs": [
    {
     "data": {
      "text/plain": [
       "matrix([[-2., -2., -2., -2.],\n",
       "        [ 2.,  2.,  2.,  2.]])"
      ]
     },
     "execution_count": 29,
     "metadata": {},
     "output_type": "execute_result"
    }
   ],
   "source": [
    "X_s"
   ]
  },
  {
   "cell_type": "code",
   "execution_count": 30,
   "id": "bb2da007",
   "metadata": {},
   "outputs": [],
   "source": [
    "X = X_s"
   ]
  },
  {
   "cell_type": "code",
   "execution_count": 31,
   "id": "0d443c20",
   "metadata": {},
   "outputs": [],
   "source": [
    "covarm = np.matmul(X.T, X)"
   ]
  },
  {
   "cell_type": "code",
   "execution_count": 32,
   "id": "77e2a059",
   "metadata": {},
   "outputs": [
    {
     "data": {
      "text/plain": [
       "matrix([[8., 8., 8., 8.],\n",
       "        [8., 8., 8., 8.],\n",
       "        [8., 8., 8., 8.],\n",
       "        [8., 8., 8., 8.]])"
      ]
     },
     "execution_count": 32,
     "metadata": {},
     "output_type": "execute_result"
    }
   ],
   "source": [
    "covarm"
   ]
  },
  {
   "cell_type": "code",
   "execution_count": 33,
   "id": "4d5a1ea8",
   "metadata": {},
   "outputs": [
    {
     "data": {
      "text/plain": [
       "(4, 4)"
      ]
     },
     "execution_count": 33,
     "metadata": {},
     "output_type": "execute_result"
    }
   ],
   "source": [
    "covarm.shape"
   ]
  },
  {
   "cell_type": "code",
   "execution_count": 34,
   "id": "3a38d762",
   "metadata": {},
   "outputs": [],
   "source": [
    "from scipy.linalg import eigh\n",
    "\n",
    "va, vec = eigh(covarm, eigvals = (2,3))"
   ]
  },
  {
   "cell_type": "code",
   "execution_count": 35,
   "id": "b61710e1",
   "metadata": {},
   "outputs": [
    {
     "data": {
      "text/plain": [
       "array([2.08016574e-15, 3.20000000e+01])"
      ]
     },
     "execution_count": 35,
     "metadata": {},
     "output_type": "execute_result"
    }
   ],
   "source": [
    "va"
   ]
  },
  {
   "cell_type": "code",
   "execution_count": 36,
   "id": "c99d8164",
   "metadata": {},
   "outputs": [
    {
     "data": {
      "text/plain": [
       "array([[ 0.72203998, -0.5       ],\n",
       "       [ 0.21015455, -0.5       ],\n",
       "       [-0.46609727, -0.5       ],\n",
       "       [-0.46609727, -0.5       ]])"
      ]
     },
     "execution_count": 36,
     "metadata": {},
     "output_type": "execute_result"
    }
   ],
   "source": [
    "vec"
   ]
  },
  {
   "cell_type": "code",
   "execution_count": 37,
   "id": "7726886d",
   "metadata": {},
   "outputs": [
    {
     "data": {
      "text/plain": [
       "(4, 2)"
      ]
     },
     "execution_count": 37,
     "metadata": {},
     "output_type": "execute_result"
    }
   ],
   "source": [
    "vec.shape"
   ]
  },
  {
   "cell_type": "code",
   "execution_count": 38,
   "id": "47f44b7f",
   "metadata": {},
   "outputs": [
    {
     "data": {
      "text/plain": [
       "(4, 2)"
      ]
     },
     "execution_count": 38,
     "metadata": {},
     "output_type": "execute_result"
    }
   ],
   "source": [
    "vec.shape"
   ]
  },
  {
   "cell_type": "code",
   "execution_count": 39,
   "id": "8155d5b9",
   "metadata": {},
   "outputs": [],
   "source": [
    "vec = vec.T"
   ]
  },
  {
   "cell_type": "code",
   "execution_count": 40,
   "id": "63e36b9f",
   "metadata": {},
   "outputs": [
    {
     "data": {
      "text/plain": [
       "array([[ 0.72203998,  0.21015455, -0.46609727, -0.46609727],\n",
       "       [-0.5       , -0.5       , -0.5       , -0.5       ]])"
      ]
     },
     "execution_count": 40,
     "metadata": {},
     "output_type": "execute_result"
    }
   ],
   "source": [
    "vec"
   ]
  },
  {
   "cell_type": "code",
   "execution_count": 41,
   "id": "9e3f7284",
   "metadata": {},
   "outputs": [
    {
     "data": {
      "text/plain": [
       "matrix([[-2., -2., -2., -2.],\n",
       "        [ 2.,  2.,  2.,  2.]])"
      ]
     },
     "execution_count": 41,
     "metadata": {},
     "output_type": "execute_result"
    }
   ],
   "source": [
    "X "
   ]
  },
  {
   "cell_type": "code",
   "execution_count": 42,
   "id": "e73e8ed0",
   "metadata": {},
   "outputs": [
    {
     "data": {
      "text/plain": [
       "matrix([[ 2.22044605e-16, -2.22044605e-16],\n",
       "        [ 4.00000000e+00, -4.00000000e+00]])"
      ]
     },
     "execution_count": 42,
     "metadata": {},
     "output_type": "execute_result"
    }
   ],
   "source": [
    "np.matmul(vec, X.T)"
   ]
  },
  {
   "cell_type": "code",
   "execution_count": 43,
   "id": "f7a30e78",
   "metadata": {},
   "outputs": [],
   "source": [
    "a = -0"
   ]
  },
  {
   "cell_type": "code",
   "execution_count": 44,
   "id": "d28734c8",
   "metadata": {},
   "outputs": [
    {
     "data": {
      "text/plain": [
       "0"
      ]
     },
     "execution_count": 44,
     "metadata": {},
     "output_type": "execute_result"
    }
   ],
   "source": [
    "a "
   ]
  },
  {
   "cell_type": "code",
   "execution_count": null,
   "id": "e359d3e7",
   "metadata": {},
   "outputs": [],
   "source": []
  },
  {
   "cell_type": "code",
   "execution_count": null,
   "id": "be0cdd6e",
   "metadata": {},
   "outputs": [],
   "source": []
  },
  {
   "cell_type": "code",
   "execution_count": null,
   "id": "c066289f",
   "metadata": {},
   "outputs": [],
   "source": []
  },
  {
   "cell_type": "code",
   "execution_count": null,
   "id": "ba817615",
   "metadata": {},
   "outputs": [],
   "source": []
  },
  {
   "cell_type": "code",
   "execution_count": null,
   "id": "d1d4307e",
   "metadata": {},
   "outputs": [],
   "source": []
  }
 ],
 "metadata": {
  "kernelspec": {
   "display_name": "Python 3 (ipykernel)",
   "language": "python",
   "name": "python3"
  },
  "language_info": {
   "codemirror_mode": {
    "name": "ipython",
    "version": 3
   },
   "file_extension": ".py",
   "mimetype": "text/x-python",
   "name": "python",
   "nbconvert_exporter": "python",
   "pygments_lexer": "ipython3",
   "version": "3.9.7"
  }
 },
 "nbformat": 4,
 "nbformat_minor": 5
}

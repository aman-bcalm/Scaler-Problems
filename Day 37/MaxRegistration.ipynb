{
 "cells": [
  {
   "cell_type": "code",
   "execution_count": 4,
   "id": "553a3b20",
   "metadata": {},
   "outputs": [],
   "source": [
    "import pandas as pd\n",
    "df = pd.DataFrame({\n",
    "\"Date\": [\"2015-12-06\", \"2011-12-27\", \"2015-09-07\", \"2012-12-21\", \"2020-02-13\", \"2015-06-09\"],\n",
    "\"R_id\":[5, 6, 7, 8, 9 , 11],\n",
    "\"Phy\":[9, 10, 11 ,12, 13 , 99],\n",
    "\"Chem\":[13, 14, 15, 16, 99, 100],\n",
    "\"Math\": [1,2,3,4,5, 7],\n",
    " },)"
   ]
  },
  {
   "cell_type": "code",
   "execution_count": 5,
   "id": "7acad756",
   "metadata": {},
   "outputs": [
    {
     "data": {
      "text/html": [
       "<div>\n",
       "<style scoped>\n",
       "    .dataframe tbody tr th:only-of-type {\n",
       "        vertical-align: middle;\n",
       "    }\n",
       "\n",
       "    .dataframe tbody tr th {\n",
       "        vertical-align: top;\n",
       "    }\n",
       "\n",
       "    .dataframe thead th {\n",
       "        text-align: right;\n",
       "    }\n",
       "</style>\n",
       "<table border=\"1\" class=\"dataframe\">\n",
       "  <thead>\n",
       "    <tr style=\"text-align: right;\">\n",
       "      <th></th>\n",
       "      <th>Date</th>\n",
       "      <th>R_id</th>\n",
       "      <th>Phy</th>\n",
       "      <th>Chem</th>\n",
       "      <th>Math</th>\n",
       "    </tr>\n",
       "  </thead>\n",
       "  <tbody>\n",
       "    <tr>\n",
       "      <th>0</th>\n",
       "      <td>2015-12-06</td>\n",
       "      <td>5</td>\n",
       "      <td>9</td>\n",
       "      <td>13</td>\n",
       "      <td>1</td>\n",
       "    </tr>\n",
       "    <tr>\n",
       "      <th>1</th>\n",
       "      <td>2011-12-27</td>\n",
       "      <td>6</td>\n",
       "      <td>10</td>\n",
       "      <td>14</td>\n",
       "      <td>2</td>\n",
       "    </tr>\n",
       "    <tr>\n",
       "      <th>2</th>\n",
       "      <td>2015-09-07</td>\n",
       "      <td>7</td>\n",
       "      <td>11</td>\n",
       "      <td>15</td>\n",
       "      <td>3</td>\n",
       "    </tr>\n",
       "    <tr>\n",
       "      <th>3</th>\n",
       "      <td>2012-12-21</td>\n",
       "      <td>8</td>\n",
       "      <td>12</td>\n",
       "      <td>16</td>\n",
       "      <td>4</td>\n",
       "    </tr>\n",
       "    <tr>\n",
       "      <th>4</th>\n",
       "      <td>2020-02-13</td>\n",
       "      <td>9</td>\n",
       "      <td>13</td>\n",
       "      <td>99</td>\n",
       "      <td>5</td>\n",
       "    </tr>\n",
       "    <tr>\n",
       "      <th>5</th>\n",
       "      <td>2015-06-09</td>\n",
       "      <td>11</td>\n",
       "      <td>99</td>\n",
       "      <td>100</td>\n",
       "      <td>7</td>\n",
       "    </tr>\n",
       "  </tbody>\n",
       "</table>\n",
       "</div>"
      ],
      "text/plain": [
       "         Date  R_id  Phy  Chem  Math\n",
       "0  2015-12-06     5    9    13     1\n",
       "1  2011-12-27     6   10    14     2\n",
       "2  2015-09-07     7   11    15     3\n",
       "3  2012-12-21     8   12    16     4\n",
       "4  2020-02-13     9   13    99     5\n",
       "5  2015-06-09    11   99   100     7"
      ]
     },
     "execution_count": 5,
     "metadata": {},
     "output_type": "execute_result"
    }
   ],
   "source": [
    "df"
   ]
  },
  {
   "cell_type": "code",
   "execution_count": 6,
   "id": "0ad2efb0",
   "metadata": {},
   "outputs": [],
   "source": [
    "df[\"Date\"] = pd.to_datetime(df[\"Date\"])"
   ]
  },
  {
   "cell_type": "code",
   "execution_count": 7,
   "id": "fd4e708e",
   "metadata": {},
   "outputs": [],
   "source": [
    "df[\"Month\"] = df[\"Date\"].dt.strftime('%B')"
   ]
  },
  {
   "cell_type": "code",
   "execution_count": 8,
   "id": "95d11c24",
   "metadata": {},
   "outputs": [
    {
     "name": "stdout",
     "output_type": "stream",
     "text": [
      "        Date  R_id  Phy  Chem  Math      Month\n",
      "0 2015-12-06     5    9    13     1   December\n",
      "1 2011-12-27     6   10    14     2   December\n",
      "2 2015-09-07     7   11    15     3  September\n",
      "3 2012-12-21     8   12    16     4   December\n",
      "4 2020-02-13     9   13    99     5   February\n",
      "5 2015-06-09    11   99   100     7       June\n"
     ]
    }
   ],
   "source": [
    "print(df)"
   ]
  },
  {
   "cell_type": "code",
   "execution_count": 19,
   "id": "e031667e",
   "metadata": {},
   "outputs": [],
   "source": [
    "sr =  df[\"Month\"].value_counts()\n",
    "freq = sr.iloc[:1].values[0]\n"
   ]
  },
  {
   "cell_type": "code",
   "execution_count": 31,
   "id": "5e572882",
   "metadata": {},
   "outputs": [
    {
     "name": "stdout",
     "output_type": "stream",
     "text": [
      "December DEC\n"
     ]
    }
   ],
   "source": [
    "mi = sr.sort_index()\n",
    "mt = mi[mi.values == freq].index[0]\n",
    "mtr = mt[0:3].upper()\n"
   ]
  },
  {
   "cell_type": "code",
   "execution_count": 36,
   "id": "66385905",
   "metadata": {},
   "outputs": [],
   "source": [
    "df1 = df.set_index(\"Month\")"
   ]
  },
  {
   "cell_type": "code",
   "execution_count": 39,
   "id": "b24def54",
   "metadata": {},
   "outputs": [],
   "source": [
    "c = round(df1.loc[mt][\"Chem\"].mean(),2)\n",
    "p = round(df1.loc[mt][\"Phy\"].mean(),2)\n",
    "m = round(df1.loc[mt][\"Math\"].mean(),2)"
   ]
  },
  {
   "cell_type": "code",
   "execution_count": null,
   "id": "9a066e35",
   "metadata": {},
   "outputs": [],
   "source": []
  }
 ],
 "metadata": {
  "kernelspec": {
   "display_name": "Python 3 (ipykernel)",
   "language": "python",
   "name": "python3"
  },
  "language_info": {
   "codemirror_mode": {
    "name": "ipython",
    "version": 3
   },
   "file_extension": ".py",
   "mimetype": "text/x-python",
   "name": "python",
   "nbconvert_exporter": "python",
   "pygments_lexer": "ipython3",
   "version": "3.9.7"
  }
 },
 "nbformat": 4,
 "nbformat_minor": 5
}

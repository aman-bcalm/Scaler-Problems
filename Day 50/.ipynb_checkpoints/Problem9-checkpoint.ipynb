{
 "cells": [
  {
   "cell_type": "code",
   "execution_count": 30,
   "id": "3384b1db",
   "metadata": {},
   "outputs": [],
   "source": [
    "from math import sqrt\n",
    "from numpy.random import seed\n",
    "from numpy.random import randn\n",
    "from numpy import mean\n",
    "from scipy.stats import sem\n",
    "from scipy.stats import t\n",
    "import numpy as np\n",
    "import math\n",
    "from scipy import stats\n"
   ]
  },
  {
   "cell_type": "code",
   "execution_count": 48,
   "id": "a652c6ab",
   "metadata": {},
   "outputs": [],
   "source": [
    "def independent_ttest(data1, data2):\n",
    "    '''\n",
    "    input:\n",
    "    data1 -> contains a python list signifying first data distribution\n",
    "    data2 -> contains a python list signifying second data distribution\n",
    "    output:\n",
    "    t_stat -> a float value signifying the t_stat value\n",
    "    p -> a float value signifying the p value\n",
    "    '''\n",
    "    t_stat = 0.0\n",
    "    p = 0.0\n",
    "    # YOUR CODE GOES HERE\n",
    "    m1 = np.mean(data1)\n",
    "    m2 = np.mean(data2)\n",
    "    \n",
    "    vr1 = np.var(data1)\n",
    "    vr2 = np.var(data2)\n",
    "    \n",
    "    n1 = len(data1)\n",
    "    n2 = len(data2)\n",
    "\n",
    "    t_stat = (m1 - m2) / math.sqrt((vr1/n1) + (vr2/n2))\n",
    "    df = len(data1) + len(data2) - 2\n",
    "    p = (1.0 - t.cdf(abs(t_stat), df)) * 2.0\n",
    "    # Your code ends here\n",
    "    return t_stat, p"
   ]
  },
  {
   "cell_type": "code",
   "execution_count": 43,
   "id": "c2517db0",
   "metadata": {},
   "outputs": [],
   "source": [
    "data1 = [33.12, 21.94, 22.36, 19.63, 29.33, 13.49, 33.72, 21.19, 26.59, 23.75]\n",
    "data2 = [32.31, 14.70, 23.39, 23.08, 30.67, 19.50, 24.14, 20.61, 25.21, 27.91]\n",
    "\n",
    "m1 = np.mean(data1)\n",
    "m2 = np.mean(data2)\n",
    "    \n",
    "vr1 = np.var(data1)\n",
    "vr2 = np.var(data2)\n",
    "    \n",
    "n1 = len(data1)\n",
    "n2 = len(data2)\n",
    "\n",
    "t_val = (m1 - m2) / math.sqrt((vr1/n1) + (vr2/n2))"
   ]
  },
  {
   "cell_type": "code",
   "execution_count": 44,
   "id": "55d50cfc",
   "metadata": {},
   "outputs": [
    {
     "data": {
      "text/plain": [
       "0.14646573464483104"
      ]
     },
     "execution_count": 44,
     "metadata": {},
     "output_type": "execute_result"
    }
   ],
   "source": [
    "t_val"
   ]
  },
  {
   "cell_type": "code",
   "execution_count": 45,
   "id": "36dba607",
   "metadata": {},
   "outputs": [],
   "source": [
    "\n",
    "# The p-value for:\n",
    "\n",
    "#     a lower-tailed test is specified by: p-value = P(TS ts | H0 is true) = cdf(ts)\n",
    "#     an upper-tailed test is specified by: p-value = P(TS ts | H0 is true) = 1 - cdf(ts)\n",
    "#     assuming that the distribution of the test statistic under H0 is symmetric about 0, \n",
    "#     a two-sided test is specified by: p-value = 2 * P(TS |ts| | H0 is true) = 2 * (1 - cdf(|ts|))\n"
   ]
  },
  {
   "cell_type": "code",
   "execution_count": null,
   "id": "679b6f7a",
   "metadata": {},
   "outputs": [],
   "source": []
  },
  {
   "cell_type": "code",
   "execution_count": null,
   "id": "17163902",
   "metadata": {},
   "outputs": [],
   "source": []
  },
  {
   "cell_type": "code",
   "execution_count": null,
   "id": "4abc04b1",
   "metadata": {},
   "outputs": [],
   "source": []
  },
  {
   "cell_type": "code",
   "execution_count": null,
   "id": "d41eb3d7",
   "metadata": {},
   "outputs": [],
   "source": []
  },
  {
   "cell_type": "code",
   "execution_count": null,
   "id": "ff2143d8",
   "metadata": {},
   "outputs": [],
   "source": []
  },
  {
   "cell_type": "code",
   "execution_count": null,
   "id": "33c59bda",
   "metadata": {},
   "outputs": [],
   "source": []
  },
  {
   "cell_type": "code",
   "execution_count": null,
   "id": "30ee3b0a",
   "metadata": {},
   "outputs": [],
   "source": []
  }
 ],
 "metadata": {
  "kernelspec": {
   "display_name": "Python 3 (ipykernel)",
   "language": "python",
   "name": "python3"
  },
  "language_info": {
   "codemirror_mode": {
    "name": "ipython",
    "version": 3
   },
   "file_extension": ".py",
   "mimetype": "text/x-python",
   "name": "python",
   "nbconvert_exporter": "python",
   "pygments_lexer": "ipython3",
   "version": "3.9.7"
  }
 },
 "nbformat": 4,
 "nbformat_minor": 5
}

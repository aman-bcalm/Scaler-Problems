{
 "cells": [
  {
   "cell_type": "code",
   "execution_count": 15,
   "id": "599f54db",
   "metadata": {},
   "outputs": [],
   "source": [
    "import numpy as np\n",
    "def mat_mult(A,B):\n",
    "     # A,B -> input matrices\n",
    "     # write code to multiply these matrices\n",
    "     # code starts here\n",
    "     if len(A[0]) != len(B) :\n",
    "         return  \"No solution\"\n",
    "\n",
    "\n",
    "     res = np.zeros([len(A), len(B[0])])\n",
    "     for i in range(0, len(A)):\n",
    "     \n",
    "        for j in range(0, len(B[0])):\n",
    "        \n",
    "            for k in range(0, len(A[0])):\n",
    "                res[i][j] += A[i][k] * B[k][j]\n",
    "     \n",
    "     res = res.astype(int)\n",
    "     res = res.tolist()\n",
    "     \n",
    "     return res\n",
    "     \n",
    "     \n",
    "     #code ends here\n",
    "    \n",
    "\n",
    "\n"
   ]
  },
  {
   "cell_type": "code",
   "execution_count": 16,
   "id": "b57c973f",
   "metadata": {},
   "outputs": [],
   "source": [
    "A = [[0, 0, 0],\n",
    "     [15, 23, -5],\n",
    "     [2, 19, 4]]"
   ]
  },
  {
   "cell_type": "code",
   "execution_count": 17,
   "id": "4295a018",
   "metadata": {},
   "outputs": [],
   "source": [
    "B = [[3], [1], [-23]]"
   ]
  },
  {
   "cell_type": "code",
   "execution_count": 21,
   "id": "e44b0338",
   "metadata": {},
   "outputs": [
    {
     "data": {
      "text/plain": [
       "[[0], [183], [-67]]"
      ]
     },
     "execution_count": 21,
     "metadata": {},
     "output_type": "execute_result"
    }
   ],
   "source": [
    "mat_mult(A, B)\n",
    "        \n",
    "        "
   ]
  },
  {
   "cell_type": "code",
   "execution_count": 26,
   "id": "8ed372cc",
   "metadata": {},
   "outputs": [],
   "source": [
    "import math\n",
    "\n",
    "def Cossim(A,B):\n",
    "    ##### write the code to find cosine similarity between A ad B\n",
    "    #### A, B -> lists of input values\n",
    "    #### both lists contain three values , denoting the values of vectors along i,j and k unit vectors\n",
    "    #code starts here\n",
    "    p = 0\n",
    "    for i in range(0, len(A)):\n",
    "        p += (A[i] * B[i])\n",
    "    \n",
    "    modA = 0\n",
    "    modB = 0\n",
    "    for i in range(0, len(A)):\n",
    "        \n",
    "        modA += math.pow(A[i], 2)\n",
    "        modB += math.pow(B[i], 2)\n",
    "    \n",
    "    modA = math.sqrt(modA)\n",
    "    modB = math.sqrt(modB)\n",
    "    \n",
    "    coss = p / (modA * modB)\n",
    "    #code ends here\n",
    "    return coss"
   ]
  },
  {
   "cell_type": "code",
   "execution_count": 27,
   "id": "bfd5c734",
   "metadata": {},
   "outputs": [
    {
     "data": {
      "text/plain": [
       "8.0"
      ]
     },
     "execution_count": 27,
     "metadata": {},
     "output_type": "execute_result"
    }
   ],
   "source": [
    "math.pow(2,3)"
   ]
  },
  {
   "cell_type": "code",
   "execution_count": null,
   "id": "ac87417c",
   "metadata": {},
   "outputs": [],
   "source": []
  },
  {
   "cell_type": "code",
   "execution_count": null,
   "id": "3a2ea7f0",
   "metadata": {},
   "outputs": [],
   "source": []
  }
 ],
 "metadata": {
  "kernelspec": {
   "display_name": "Python 3 (ipykernel)",
   "language": "python",
   "name": "python3"
  },
  "language_info": {
   "codemirror_mode": {
    "name": "ipython",
    "version": 3
   },
   "file_extension": ".py",
   "mimetype": "text/x-python",
   "name": "python",
   "nbconvert_exporter": "python",
   "pygments_lexer": "ipython3",
   "version": "3.9.7"
  }
 },
 "nbformat": 4,
 "nbformat_minor": 5
}

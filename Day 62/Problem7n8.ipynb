{
 "cells": [
  {
   "cell_type": "code",
   "execution_count": 21,
   "id": "7908cb5b",
   "metadata": {},
   "outputs": [],
   "source": [
    "def straight_line_or_not(coordinates):\n",
    "    # YOUR CODE GOES HERE\n",
    "    p1 = coordinates[0]\n",
    "    p2 = coordinates[1]\n",
    "    \n",
    "    m = (p2[1] - p1[1]) / (p2[0] - p1[0])\n",
    "    \n",
    "    s_slope = True\n",
    "   \n",
    "    for i in range(2, len(coordinates)):\n",
    "       \n",
    "        pm = coordinates[i]\n",
    "        mn = (pm[1] - p1[1]) / (pm[0] - p1[0])\n",
    "        \n",
    "        if mn != m:\n",
    "            s_slope = False\n",
    "            break\n",
    "            \n",
    "    c = 0\n",
    "    if s_slope == True:\n",
    "         c = p1[1] - m*p1[0]\n",
    "    else:\n",
    "        return -1\n",
    "            \n",
    "    \n",
    "    \n",
    "    return (m, c)"
   ]
  },
  {
   "cell_type": "code",
   "execution_count": 22,
   "id": "a76c55a3",
   "metadata": {},
   "outputs": [],
   "source": [
    "coord = [(5.0, 5.0), (-2.0, -3.0), (0.0, 0.0), (14.0, 6.7), (-3.0, -6.3)]"
   ]
  },
  {
   "cell_type": "code",
   "execution_count": 23,
   "id": "1247f6bb",
   "metadata": {},
   "outputs": [
    {
     "data": {
      "text/plain": [
       "-1"
      ]
     },
     "execution_count": 23,
     "metadata": {},
     "output_type": "execute_result"
    }
   ],
   "source": [
    "straight_line_or_not(coord)"
   ]
  },
  {
   "cell_type": "code",
   "execution_count": 31,
   "id": "349d9eff",
   "metadata": {},
   "outputs": [],
   "source": [
    "def calculate_distance(M, B1, B2):\n",
    "  # YOUR CODE GOES HERE\n",
    "  res = abs(B1-B2)/ (1+ M**2)**(1/2)\n",
    "  res = round(res) \n",
    "  res = float(res) \n",
    "  return res"
   ]
  },
  {
   "cell_type": "code",
   "execution_count": 32,
   "id": "326d191b",
   "metadata": {},
   "outputs": [
    {
     "data": {
      "text/plain": [
       "8"
      ]
     },
     "execution_count": 32,
     "metadata": {},
     "output_type": "execute_result"
    }
   ],
   "source": [
    "round(calculate_distance(3, 32, 8))"
   ]
  },
  {
   "cell_type": "code",
   "execution_count": null,
   "id": "3f0ee616",
   "metadata": {},
   "outputs": [],
   "source": []
  },
  {
   "cell_type": "code",
   "execution_count": null,
   "id": "744245cd",
   "metadata": {},
   "outputs": [],
   "source": []
  }
 ],
 "metadata": {
  "kernelspec": {
   "display_name": "Python 3 (ipykernel)",
   "language": "python",
   "name": "python3"
  },
  "language_info": {
   "codemirror_mode": {
    "name": "ipython",
    "version": 3
   },
   "file_extension": ".py",
   "mimetype": "text/x-python",
   "name": "python",
   "nbconvert_exporter": "python",
   "pygments_lexer": "ipython3",
   "version": "3.9.7"
  }
 },
 "nbformat": 4,
 "nbformat_minor": 5
}

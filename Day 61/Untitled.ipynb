{
 "cells": [
  {
   "cell_type": "code",
   "execution_count": 1,
   "id": "2bb5d366",
   "metadata": {},
   "outputs": [],
   "source": [
    "import numpy as np"
   ]
  },
  {
   "cell_type": "code",
   "execution_count": 7,
   "id": "a8eea72f",
   "metadata": {},
   "outputs": [],
   "source": [
    "def isSymmetric(mat,N):\n",
    "     # mat -> input square matrix\n",
    "     # N -> order of matrix\n",
    "     # return 'Yes' for symmetric matrix and 'No' for non-symmetric matrix\n",
    "     \n",
    "     #code starts here\n",
    "     mat = np.array(mat)\n",
    "     mat_t = mat.transpose()\n",
    "     res =  (mat==mat_t).all()\n",
    "     \n",
    "     if res == True:\n",
    "         res = 'Yes'\n",
    "     else:\n",
    "         res = 'No'\n",
    "\n",
    "     #code ends here\n",
    "     return res\n"
   ]
  },
  {
   "cell_type": "code",
   "execution_count": null,
   "id": "1de5598f",
   "metadata": {},
   "outputs": [],
   "source": []
  },
  {
   "cell_type": "code",
   "execution_count": null,
   "id": "833184cd",
   "metadata": {},
   "outputs": [],
   "source": []
  },
  {
   "cell_type": "code",
   "execution_count": null,
   "id": "f28737d0",
   "metadata": {},
   "outputs": [],
   "source": []
  },
  {
   "cell_type": "code",
   "execution_count": null,
   "id": "094b9675",
   "metadata": {},
   "outputs": [],
   "source": []
  }
 ],
 "metadata": {
  "kernelspec": {
   "display_name": "Python 3 (ipykernel)",
   "language": "python",
   "name": "python3"
  },
  "language_info": {
   "codemirror_mode": {
    "name": "ipython",
    "version": 3
   },
   "file_extension": ".py",
   "mimetype": "text/x-python",
   "name": "python",
   "nbconvert_exporter": "python",
   "pygments_lexer": "ipython3",
   "version": "3.9.7"
  }
 },
 "nbformat": 4,
 "nbformat_minor": 5
}

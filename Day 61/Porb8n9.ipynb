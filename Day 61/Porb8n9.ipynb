{
 "cells": [
  {
   "cell_type": "code",
   "execution_count": 1,
   "id": "3adebe86",
   "metadata": {},
   "outputs": [],
   "source": [
    "import numpy as np"
   ]
  },
  {
   "cell_type": "code",
   "execution_count": 7,
   "id": "4157ec08",
   "metadata": {},
   "outputs": [],
   "source": [
    "def isSymmetric(mat,N):\n",
    "     # mat -> input square matrix\n",
    "     # N -> order of matrix\n",
    "     # return 'Yes' for symmetric matrix and 'No' for non-symmetric matrix\n",
    "     \n",
    "     #code starts here\n",
    "     mat = np.array(mat)\n",
    "     mat_t = mat.transpose()\n",
    "     res =  (mat==mat_t).all()\n",
    "     \n",
    "     if res == True:\n",
    "         res = 'Yes'\n",
    "     else:\n",
    "         res = 'No'\n",
    "\n",
    "     #code ends here\n",
    "     return res\n"
   ]
  },
  {
   "cell_type": "code",
   "execution_count": null,
   "id": "924523e8",
   "metadata": {},
   "outputs": [],
   "source": [
    "def rotate(mat):\n",
    "    # mat -> input matrix\n",
    "    # write a function to rotate the matrix by 90 degrees\n",
    "    # code starts here\n",
    "    mat = np.array(mat)\n",
    "    mat = np.rot90(mat, axes=(1,0))\n",
    "    mat = mat.tolist()\n",
    "    # code ends here\n",
    "    return mat"
   ]
  },
  {
   "cell_type": "code",
   "execution_count": null,
   "id": "7c70bef2",
   "metadata": {},
   "outputs": [],
   "source": []
  },
  {
   "cell_type": "code",
   "execution_count": null,
   "id": "936136d6",
   "metadata": {},
   "outputs": [],
   "source": []
  },
  {
   "cell_type": "code",
   "execution_count": null,
   "id": "123bf07c",
   "metadata": {},
   "outputs": [],
   "source": []
  }
 ],
 "metadata": {
  "kernelspec": {
   "display_name": "Python 3 (ipykernel)",
   "language": "python",
   "name": "python3"
  },
  "language_info": {
   "codemirror_mode": {
    "name": "ipython",
    "version": 3
   },
   "file_extension": ".py",
   "mimetype": "text/x-python",
   "name": "python",
   "nbconvert_exporter": "python",
   "pygments_lexer": "ipython3",
   "version": "3.9.7"
  }
 },
 "nbformat": 4,
 "nbformat_minor": 5
}

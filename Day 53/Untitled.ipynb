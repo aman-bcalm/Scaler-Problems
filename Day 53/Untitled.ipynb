{
 "cells": [
  {
   "cell_type": "code",
   "execution_count": 3,
   "id": "361bb110",
   "metadata": {},
   "outputs": [],
   "source": [
    "samp1 = [8, 10, 12, 8, 7]\n",
    "samp2 = [12, 11, 9, 14, 4]\n",
    "samp3 = [18, 12, 16, 6, 8]\n",
    "samp4 = [13, 9, 12, 16,15] \n",
    "\n",
    "s = [samp1, samp2, samp3, samp4]"
   ]
  },
  {
   "cell_type": "code",
   "execution_count": 40,
   "id": "9e25d6f3",
   "metadata": {},
   "outputs": [],
   "source": [
    "import numpy as np\n",
    "def anova1(samp1, samp2, samp3, samp4):\n",
    "    '''\n",
    "    input:\n",
    "    samp1, samp2, samp3, samp4 -> each of these variables is a python list of 5 integers\n",
    "    output:\n",
    "    t_stat -> just return the calculated test statistic as per one-way annova\n",
    "    '''\n",
    "    t_stat = 0.0\n",
    "    n = len(samp1)\n",
    "    p = 4\n",
    "    N = n * p\n",
    "    \n",
    "    #average of each sample\n",
    "    ma = []\n",
    "    s = [samp1, samp2, samp3, samp4]\n",
    "    for i in range(0, len(s)):\n",
    "        \n",
    "        ma.append(np.mean(s[i]))\n",
    "    \n",
    "    #variance of each sample\n",
    "    va = []\n",
    "    for i in range(0, len(s)):\n",
    "        \n",
    "        va.append(np.var(s[i]))\n",
    "    \n",
    "    \n",
    "    \n",
    "    X_av = (sum(samp1) + sum(samp2) + sum(samp3) + sum(samp4)) / N\n",
    "   \n",
    "   \n",
    "    \n",
    "    SST = 0\n",
    "    for i in range(0, len(s)):\n",
    "        \n",
    "        SST += (n * (ma[i] - X_av) * (ma[i] - X_av))\n",
    "    \n",
    "    \n",
    "    \n",
    "    MST = SST / p-1\n",
    "   \n",
    "    SSE = 0\n",
    "    for i in range(0, len(s)):\n",
    "        \n",
    "        SSE += ((n-1) * va[i])\n",
    "    \n",
    "   \n",
    "    MSE = SSE / (N-p)\n",
    "    \n",
    "    F = MST /  MSE\n",
    "    \n",
    "    t_stat = F\n",
    "    \n",
    "    \n",
    "    return t_stat"
   ]
  },
  {
   "cell_type": "code",
   "execution_count": 41,
   "id": "849583f5",
   "metadata": {},
   "outputs": [
    {
     "data": {
      "text/plain": [
       "1.1057692307692308"
      ]
     },
     "execution_count": 41,
     "metadata": {},
     "output_type": "execute_result"
    }
   ],
   "source": [
    "anova1(samp1, samp2, samp3, samp4)"
   ]
  },
  {
   "cell_type": "code",
   "execution_count": null,
   "id": "3e3ccebd",
   "metadata": {},
   "outputs": [],
   "source": []
  },
  {
   "cell_type": "code",
   "execution_count": null,
   "id": "de4ef749",
   "metadata": {},
   "outputs": [],
   "source": []
  },
  {
   "cell_type": "code",
   "execution_count": null,
   "id": "628549e8",
   "metadata": {},
   "outputs": [],
   "source": []
  },
  {
   "cell_type": "code",
   "execution_count": null,
   "id": "91349b57",
   "metadata": {},
   "outputs": [],
   "source": []
  }
 ],
 "metadata": {
  "kernelspec": {
   "display_name": "Python 3 (ipykernel)",
   "language": "python",
   "name": "python3"
  },
  "language_info": {
   "codemirror_mode": {
    "name": "ipython",
    "version": 3
   },
   "file_extension": ".py",
   "mimetype": "text/x-python",
   "name": "python",
   "nbconvert_exporter": "python",
   "pygments_lexer": "ipython3",
   "version": "3.9.7"
  }
 },
 "nbformat": 4,
 "nbformat_minor": 5
}

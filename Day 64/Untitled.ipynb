{
 "cells": [
  {
   "cell_type": "code",
   "execution_count": 40,
   "id": "794e074c",
   "metadata": {},
   "outputs": [],
   "source": [
    "import numpy as np\n",
    "\n",
    "def main(x):\n",
    "    \n",
    "    y = []\n",
    "    for i in range(0, len(x)):\n",
    "        y.append(np.tanh(x[i]))\n",
    "    \n",
    "    ma = []\n",
    "    #print(y)\n",
    "    #print(x)\n",
    "    for i in range(1, len(x)):\n",
    "        \n",
    "        #print(y[i] - y[i-1],x[i] - x[i-1])\n",
    "        if x[i] - x[i-1] == 0:\n",
    "            ma.append(0.0)\n",
    "        else: \n",
    "            ma.append( round( (y[i] - y[i-1]) / (x[i] - x[i-1]), 3)    )\n",
    "   \n",
    "    print(ma)\n"
   ]
  },
  {
   "cell_type": "code",
   "execution_count": 41,
   "id": "67657f45",
   "metadata": {},
   "outputs": [
    {
     "name": "stdout",
     "output_type": "stream",
     "text": [
      "[0.734, 0.717, 0.691]\n"
     ]
    }
   ],
   "source": [
    "x = [0.711, 0.427, 0.757, 0.496]\n",
    "main(x)"
   ]
  },
  {
   "cell_type": "code",
   "execution_count": null,
   "id": "f0252ff9",
   "metadata": {},
   "outputs": [],
   "source": []
  },
  {
   "cell_type": "code",
   "execution_count": null,
   "id": "8fbd7057",
   "metadata": {},
   "outputs": [],
   "source": []
  }
 ],
 "metadata": {
  "kernelspec": {
   "display_name": "Python 3 (ipykernel)",
   "language": "python",
   "name": "python3"
  },
  "language_info": {
   "codemirror_mode": {
    "name": "ipython",
    "version": 3
   },
   "file_extension": ".py",
   "mimetype": "text/x-python",
   "name": "python",
   "nbconvert_exporter": "python",
   "pygments_lexer": "ipython3",
   "version": "3.9.7"
  }
 },
 "nbformat": 4,
 "nbformat_minor": 5
}

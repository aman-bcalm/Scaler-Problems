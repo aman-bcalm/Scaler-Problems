{
 "cells": [
  {
   "cell_type": "code",
   "execution_count": 5,
   "id": "d4a77134",
   "metadata": {},
   "outputs": [],
   "source": [
    "import numpy as np\n",
    "\n",
    "def main(x):\n",
    "    \n",
    "    y = []\n",
    "    for i in range(0, len(x)):\n",
    "        y.append(np.tanh(x[i]))\n",
    "    \n",
    "    ma = []\n",
    "    #print(y)\n",
    "    #print(x)\n",
    "    for i in range(1, len(x)):\n",
    "        \n",
    "        #print(y[i] - y[i-1],x[i] - x[i-1])\n",
    "        if x[i] - x[i-1] == 0:\n",
    "            ma.append(0.0)\n",
    "        else: \n",
    "            ma.append( round( (y[i] - y[i-1]) / (x[i] - x[i-1]), 3)    )\n",
    "   \n",
    "    print(ma)\n"
   ]
  },
  {
   "cell_type": "code",
   "execution_count": 6,
   "id": "7a7317a0",
   "metadata": {},
   "outputs": [
    {
     "name": "stdout",
     "output_type": "stream",
     "text": [
      "[0.734, 0.717, 0.691]\n"
     ]
    }
   ],
   "source": [
    "x = [0.711, 0.427, 0.757, 0.496]\n",
    "main(x)"
   ]
  },
  {
   "cell_type": "code",
   "execution_count": 7,
   "id": "6a96718f",
   "metadata": {},
   "outputs": [],
   "source": [
    "def lnn(x):\n",
    "    for i in range(0, len(x)):\n",
    "        x[i] = 1/x[i]\n",
    "    \n",
    "    return x"
   ]
  },
  {
   "cell_type": "code",
   "execution_count": 8,
   "id": "8fddf653",
   "metadata": {},
   "outputs": [],
   "source": [
    "a = [0.03, 7, 3.456, 0.1, 1]"
   ]
  },
  {
   "cell_type": "code",
   "execution_count": 9,
   "id": "6da1d3ac",
   "metadata": {},
   "outputs": [],
   "source": [
    "b =  lnn(a)"
   ]
  },
  {
   "cell_type": "code",
   "execution_count": 10,
   "id": "6af3a703",
   "metadata": {},
   "outputs": [
    {
     "data": {
      "text/plain": [
       "8.953108465608468"
      ]
     },
     "execution_count": 10,
     "metadata": {},
     "output_type": "execute_result"
    }
   ],
   "source": [
    "np.mean(b)"
   ]
  },
  {
   "cell_type": "code",
   "execution_count": 16,
   "id": "e376fe30",
   "metadata": {},
   "outputs": [],
   "source": [
    "def check(x,t):\n",
    "\n",
    "    # x -> list of input values of 'x'\n",
    "    # t -> floating point input vale of 't' as used in the formula\n",
    "    #code start here\n",
    "    y = []\n",
    "    z = []\n",
    "    for i in range(0, len(x)):\n",
    "        y.append( (np.log(x[i]+t) - np.log(x[i]-t)) / ( 2*t) )\n",
    "        z.append(  float(1/x[i]) )\n",
    "    \n",
    "    \n",
    "    r = (np.mean(z), np.mean(y))\n",
    "        \n",
    "        \n",
    "        \n",
    "    \n",
    "    \n",
    "    #code ends here\n",
    "    return r"
   ]
  },
  {
   "cell_type": "code",
   "execution_count": 17,
   "id": "75472a50",
   "metadata": {},
   "outputs": [],
   "source": [
    "x = [0.03, 7, 3.456, 0.1, 1]\n",
    "t = 0.00000000001"
   ]
  },
  {
   "cell_type": "code",
   "execution_count": 18,
   "id": "a7a957d4",
   "metadata": {},
   "outputs": [
    {
     "data": {
      "text/plain": [
       "(8.953108465608468, 8.953107144549222)"
      ]
     },
     "execution_count": 18,
     "metadata": {},
     "output_type": "execute_result"
    }
   ],
   "source": [
    "check(x, t)"
   ]
  },
  {
   "cell_type": "code",
   "execution_count": null,
   "id": "f604a5fa",
   "metadata": {},
   "outputs": [],
   "source": []
  }
 ],
 "metadata": {
  "kernelspec": {
   "display_name": "Python 3 (ipykernel)",
   "language": "python",
   "name": "python3"
  },
  "language_info": {
   "codemirror_mode": {
    "name": "ipython",
    "version": 3
   },
   "file_extension": ".py",
   "mimetype": "text/x-python",
   "name": "python",
   "nbconvert_exporter": "python",
   "pygments_lexer": "ipython3",
   "version": "3.9.7"
  }
 },
 "nbformat": 4,
 "nbformat_minor": 5
}
